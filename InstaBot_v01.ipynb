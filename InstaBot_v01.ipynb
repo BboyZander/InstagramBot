{
 "cells": [
  {
   "cell_type": "code",
   "execution_count": 1,
   "metadata": {},
   "outputs": [],
   "source": [
    "import pandas as pd\n",
    "import numpy as np\n",
    "\n",
    "from time import sleep\n",
    "from tqdm import tqdm\n",
    "import datetime\n",
    "import pickle\n",
    "\n",
    "from InstagramAPI import InstagramAPI"
   ]
  },
  {
   "cell_type": "markdown",
   "metadata": {},
   "source": [
    "https://dev.to/coderasha/automating-instagram-api-with-python-gain-followers-2ap7"
   ]
  },
  {
   "cell_type": "code",
   "execution_count": 2,
   "metadata": {},
   "outputs": [],
   "source": [
    "user = pd.read_csv('login.csv', sep=';')\n",
    "\n",
    "username = user.username.values[0]\n",
    "password = user.password.values[0]"
   ]
  },
  {
   "cell_type": "code",
   "execution_count": 3,
   "metadata": {},
   "outputs": [
    {
     "name": "stdout",
     "output_type": "stream",
     "text": [
      "Request return 429 error!\n",
      "{'message': 'Please wait a few minutes before you try again.', 'status': 'fail'}\n",
      "Request return 405 error!\n",
      "{'message': '', 'status': 'fail'}\n",
      "Login success!\n",
      "\n",
      "pk\n",
      "username\n",
      "full_name\n",
      "is_private\n",
      "profile_pic_url\n",
      "profile_pic_id\n",
      "is_verified\n",
      "has_anonymous_profile_picture\n",
      "media_count\n",
      "geo_media_count\n",
      "follower_count\n",
      "following_count\n",
      "following_tag_count\n",
      "biography\n",
      "external_url\n",
      "external_lynx_url\n",
      "can_boost_post\n",
      "can_see_organic_insights\n",
      "show_insights_terms\n",
      "can_convert_to_business\n",
      "can_create_sponsor_tags\n",
      "can_be_tagged_as_sponsor\n",
      "total_igtv_videos\n",
      "reel_auto_archive\n",
      "usertags_count\n",
      "usertag_review_enabled\n",
      "has_chaining\n",
      "hd_profile_pic_versions\n",
      "hd_profile_pic_url_info\n",
      "has_placed_orders\n",
      "show_conversion_edit_entry\n",
      "allowed_commenter_type\n",
      "is_video_creator\n",
      "has_profile_video_feed\n",
      "eligible_shopping_signup_entrypoints\n",
      "direct_messaging\n",
      "fb_page_call_to_action_id\n",
      "address_street\n",
      "business_contact_method\n",
      "category\n",
      "city_id\n",
      "city_name\n",
      "contact_phone_number\n",
      "is_call_to_action_enabled\n",
      "latitude\n",
      "longitude\n",
      "public_email\n",
      "public_phone_country_code\n",
      "public_phone_number\n",
      "zip\n",
      "can_claim_page\n",
      "can_crosspost_without_fb_token\n",
      "num_of_admined_pages\n",
      "page_id\n",
      "page_name\n",
      "is_attribute_sync_enabled\n",
      "has_business_presence_node\n",
      "ads_page_id\n",
      "ads_page_name\n",
      "instagram_location_id\n",
      "is_business\n",
      "account_type\n",
      "professional_conversion_suggested_account_type\n",
      "can_hide_category\n",
      "can_hide_public_contacts\n",
      "should_show_category\n",
      "should_show_public_contacts\n"
     ]
    }
   ],
   "source": [
    "api = InstagramAPI(username, password)\n",
    "api.USER_AGENT = 'Instagram 10.34.0 Android (18/4.3; 320dpi; 720x1280; Xiaomi; HM lSW; armani; qcom; en_US)'\n",
    "api.login()\n",
    "\n",
    "api.searchUsername(username)\n",
    "result = api.LastJson\n",
    "for i in  result['user'].keys():\n",
    "    print(i)"
   ]
  },
  {
   "cell_type": "code",
   "execution_count": 55,
   "metadata": {},
   "outputs": [],
   "source": [
    "class InstaBot:\n",
    "\n",
    "    def __init__(self, username, password):\n",
    "        self.api = InstagramAPI(username, password) \n",
    "        \n",
    "        api = self.api\n",
    "        api.USER_AGENT = 'Instagram 10.34.0 Android (18/4.3; 320dpi; 720x1280; Xiaomi; HM lSW; armani; qcom; en_US)'\n",
    "        api.login()\n",
    "        \n",
    "    def get_profile_details(self, usernameID = 1, savefile = ''):\n",
    "        \"\"\"\n",
    "        Function\n",
    "        savefile - path for file without its name. The name will be /profile_usernameID.csv, sep=\\t\n",
    "        return a df with usernameID info such as nickname, full_name, profile_pic_url, follower_count, following_count and media_count\n",
    "        \"\"\"\n",
    "        api = self.api\n",
    "\n",
    "        api.login()\n",
    "        assert isinstance(usernameID, int), 'incorrect type of userID'\n",
    "        assert isinstance(savefile, str), 'incorrect type of savefile'\n",
    "\n",
    "\n",
    "\n",
    "        if usernameID == 1:\n",
    "            api.getSelfUsernameInfo()\n",
    "        else:\n",
    "            api.getUsernameInfo(usernameID)\n",
    "\n",
    "        result = api.LastJson\n",
    "        username = result['user']['username']\n",
    "        full_name = result['user']['full_name']\n",
    "        profile_pic_url = result['user']['profile_pic_url']\n",
    "        followers = result['user']['follower_count']\n",
    "        following = result['user']['following_count']\n",
    "        media_count = result['user']['media_count']\n",
    "        df_profile = pd.DataFrame(\n",
    "            {'username':username,\n",
    "            'full name': full_name,\n",
    "            'profile picture URL':profile_pic_url,\n",
    "            'followers':followers,\n",
    "            'following':following,\n",
    "            'media count': media_count,\n",
    "            }, index=[0])\n",
    "        if savefile == '':\n",
    "            return df_profile\n",
    "        else:\n",
    "            df_profile.to_csv(savefile + '/profile_' + str(usernameID) + '.csv', sep='\\t', encoding='utf-8')\n",
    "            return df_profile\n",
    "        \n",
    "    def get_followers(self, username):\n",
    "        \"\"\"\n",
    "        return all followers of 'username'\n",
    "        \"\"\"\n",
    "        api = self.api\n",
    "        \n",
    "        api.login()\n",
    "        api.searchUsername(username)\n",
    "        r = api.LastJson\n",
    "        return api.getTotalFollowers(r['user']['pk'])\n",
    "\n",
    "    def get_followings(self, username):\n",
    "        \"\"\"\n",
    "        return all followings of 'username'\n",
    "        \"\"\"\n",
    "        api = self.api\n",
    "        \n",
    "        api.login()\n",
    "        api.searchUsername(username)\n",
    "        r = api.LastJson\n",
    "        return api.getTotalFollowings(r['user']['pk'])\n",
    "    \n",
    "    def auto_sub(self, your_followers, cnt=10):\n",
    "        \"\"\"\n",
    "        Autosuber\n",
    "        \"\"\"\n",
    "        assert len(your_followers) >= 1, 'users not found'\n",
    "\n",
    "        user = np.random.choice(your_followers, 1)[0]\n",
    "        his_followers = api.getTotalFollowers(user['pk'])\n",
    "\n",
    "        to_follow = [i['pk'] for i in np.random.choice(his_followers, cnt)]\n",
    "        your_followers_id = [i['pk'] for i in your_followers]\n",
    "        to_follow = list(set(to_follow) - set(your_followers_id))\n",
    "\n",
    "        for user in tqdm(to_follow):\n",
    "            api.follow(user)\n",
    "            sleep(np.random.randint(15, 45))\n",
    "\n",
    "\n",
    "        curr_date =  str(datetime.datetime.now().date()).replace('-', '_')   \n",
    "        with open('followed_' + curr_date + '.pickle' , 'wb') as f:\n",
    "            pickle.dump(to_follow, f)\n",
    "\n",
    "        return to_follow\n",
    "    \n",
    "    def auto_unsab(self, username, follower_PATH):\n",
    "        \"\"\"\n",
    "        auto unsuber\n",
    "        \"\"\"\n",
    "        api = self.api\n",
    "\n",
    "        api.login()\n",
    "        current_followers = self.get_followers(username)\n",
    "        current_followers_id = [i['pk'] for i in current_followers]\n",
    "\n",
    "        with open(follower_PATH, 'rb') as f:\n",
    "            followers_for_check = pickle.load(f)\n",
    "\n",
    "        to_unsab = list(set(followers_for_check) - set(current_followers_id))\n",
    "\n",
    "        for user in tqdm(to_unsab):\n",
    "            api.unfollow(user)\n",
    "            sleep(np.random.randint(15, 45))\n",
    "\n",
    "        return 'Done!'\n",
    "    \n",
    "    def give_like(self, *userIDs, cnt_likes=5):\n",
    "        \"\"\"\n",
    "        delay - random number from 15 to 45 seconds\n",
    "        \"\"\"\n",
    "        api = self.api\n",
    "        for user in tqdm(userIDs):\n",
    "            api.getUserFeed(user)\n",
    "            feed = api.LastJson['items']\n",
    "            feedIDs = [i['pk'] for i in feed]\n",
    "            random_feed = np.random.choice(feedIDs, cnt_likes)\n",
    "            for feedID in random_feed:\n",
    "                api.like(int(feedID))\n",
    "                sleep(np.random.randint(15, 45))\n",
    "\n",
    "        return 'all likes are given out'"
   ]
  },
  {
   "cell_type": "code",
   "execution_count": 53,
   "metadata": {},
   "outputs": [
    {
     "name": "stdout",
     "output_type": "stream",
     "text": [
      "Request return 429 error!\n",
      "{'message': 'Please wait a few minutes before you try again.', 'status': 'fail'}\n",
      "Request return 405 error!\n",
      "{'message': '', 'status': 'fail'}\n",
      "Login success!\n",
      "\n"
     ]
    }
   ],
   "source": [
    "bot = InstaBot(username, password)"
   ]
  },
  {
   "cell_type": "code",
   "execution_count": 54,
   "metadata": {},
   "outputs": [
    {
     "name": "stderr",
     "output_type": "stream",
     "text": [
      "  0%|          | 0/2 [00:00<?, ?it/s]"
     ]
    },
    {
     "name": "stdout",
     "output_type": "stream",
     "text": [
      "<class 'numpy.int64'>\n",
      "<class 'numpy.int64'>\n",
      "<class 'numpy.int64'>\n"
     ]
    },
    {
     "name": "stderr",
     "output_type": "stream",
     "text": [
      " 50%|█████     | 1/2 [01:40<01:40, 100.64s/it]"
     ]
    },
    {
     "name": "stdout",
     "output_type": "stream",
     "text": [
      "<class 'numpy.int64'>\n",
      "<class 'numpy.int64'>\n",
      "<class 'numpy.int64'>\n"
     ]
    },
    {
     "name": "stderr",
     "output_type": "stream",
     "text": [
      "100%|██████████| 2/2 [02:48<00:00, 90.75s/it] \n"
     ]
    },
    {
     "data": {
      "text/plain": [
       "'all likes are given out'"
      ]
     },
     "execution_count": 54,
     "metadata": {},
     "output_type": "execute_result"
    }
   ],
   "source": [
    "bot.give_like(644755273, 1952213018, cnt_likes=3)"
   ]
  },
  {
   "cell_type": "code",
   "execution_count": 10,
   "metadata": {},
   "outputs": [],
   "source": [
    "followers = bot.get_followers(username)"
   ]
  },
  {
   "cell_type": "code",
   "execution_count": 12,
   "metadata": {
    "collapsed": true,
    "jupyter": {
     "outputs_hidden": true
    }
   },
   "outputs": [
    {
     "ename": "KeyError",
     "evalue": "'big_list'",
     "output_type": "error",
     "traceback": [
      "\u001b[0;31m---------------------------------------------------------------------------\u001b[0m",
      "\u001b[0;31mKeyError\u001b[0m                                  Traceback (most recent call last)",
      "\u001b[0;32m<ipython-input-12-eecb515346f0>\u001b[0m in \u001b[0;36m<module>\u001b[0;34m\u001b[0m\n\u001b[0;32m----> 1\u001b[0;31m \u001b[0mautosub_followers\u001b[0m \u001b[0;34m=\u001b[0m \u001b[0mbot\u001b[0m\u001b[0;34m.\u001b[0m\u001b[0mauto_sub\u001b[0m\u001b[0;34m(\u001b[0m\u001b[0mfollowers\u001b[0m\u001b[0;34m,\u001b[0m \u001b[0mcnt\u001b[0m\u001b[0;34m=\u001b[0m\u001b[0;36m5\u001b[0m\u001b[0;34m,\u001b[0m \u001b[0mdelay\u001b[0m\u001b[0;34m=\u001b[0m\u001b[0;36m15\u001b[0m\u001b[0;34m)\u001b[0m\u001b[0;34m\u001b[0m\u001b[0;34m\u001b[0m\u001b[0m\n\u001b[0m",
      "\u001b[0;32m<ipython-input-8-68254f6d95b4>\u001b[0m in \u001b[0;36mauto_sub\u001b[0;34m(self, your_followers, cnt, delay)\u001b[0m\n\u001b[1;32m     37\u001b[0m \u001b[0;34m\u001b[0m\u001b[0m\n\u001b[1;32m     38\u001b[0m         \u001b[0muser\u001b[0m \u001b[0;34m=\u001b[0m \u001b[0mnp\u001b[0m\u001b[0;34m.\u001b[0m\u001b[0mrandom\u001b[0m\u001b[0;34m.\u001b[0m\u001b[0mchoice\u001b[0m\u001b[0;34m(\u001b[0m\u001b[0myour_followers\u001b[0m\u001b[0;34m,\u001b[0m \u001b[0;36m1\u001b[0m\u001b[0;34m)\u001b[0m\u001b[0;34m[\u001b[0m\u001b[0;36m0\u001b[0m\u001b[0;34m]\u001b[0m\u001b[0;34m\u001b[0m\u001b[0;34m\u001b[0m\u001b[0m\n\u001b[0;32m---> 39\u001b[0;31m         \u001b[0mhis_followers\u001b[0m \u001b[0;34m=\u001b[0m \u001b[0mapi\u001b[0m\u001b[0;34m.\u001b[0m\u001b[0mgetTotalFollowers\u001b[0m\u001b[0;34m(\u001b[0m\u001b[0muser\u001b[0m\u001b[0;34m[\u001b[0m\u001b[0;34m'pk'\u001b[0m\u001b[0;34m]\u001b[0m\u001b[0;34m)\u001b[0m\u001b[0;34m\u001b[0m\u001b[0;34m\u001b[0m\u001b[0m\n\u001b[0m\u001b[1;32m     40\u001b[0m \u001b[0;34m\u001b[0m\u001b[0m\n\u001b[1;32m     41\u001b[0m         \u001b[0mto_follow\u001b[0m \u001b[0;34m=\u001b[0m \u001b[0;34m[\u001b[0m\u001b[0mi\u001b[0m\u001b[0;34m[\u001b[0m\u001b[0;34m'pk'\u001b[0m\u001b[0;34m]\u001b[0m \u001b[0;32mfor\u001b[0m \u001b[0mi\u001b[0m \u001b[0;32min\u001b[0m \u001b[0mnp\u001b[0m\u001b[0;34m.\u001b[0m\u001b[0mrandom\u001b[0m\u001b[0;34m.\u001b[0m\u001b[0mchoice\u001b[0m\u001b[0;34m(\u001b[0m\u001b[0mhis_followers\u001b[0m\u001b[0;34m,\u001b[0m \u001b[0mcnt\u001b[0m\u001b[0;34m)\u001b[0m\u001b[0;34m]\u001b[0m\u001b[0;34m\u001b[0m\u001b[0;34m\u001b[0m\u001b[0m\n",
      "\u001b[0;32m~/src/instagramapi/InstagramAPI/InstagramAPI.py\u001b[0m in \u001b[0;36mgetTotalFollowers\u001b[0;34m(self, usernameId)\u001b[0m\n\u001b[1;32m    999\u001b[0m                 \u001b[0mfollowers\u001b[0m\u001b[0;34m.\u001b[0m\u001b[0mappend\u001b[0m\u001b[0;34m(\u001b[0m\u001b[0mitem\u001b[0m\u001b[0;34m)\u001b[0m\u001b[0;34m\u001b[0m\u001b[0;34m\u001b[0m\u001b[0m\n\u001b[1;32m   1000\u001b[0m \u001b[0;34m\u001b[0m\u001b[0m\n\u001b[0;32m-> 1001\u001b[0;31m             \u001b[0;32mif\u001b[0m \u001b[0mtemp\u001b[0m\u001b[0;34m[\u001b[0m\u001b[0;34m\"big_list\"\u001b[0m\u001b[0;34m]\u001b[0m \u001b[0;32mis\u001b[0m \u001b[0;32mFalse\u001b[0m\u001b[0;34m:\u001b[0m\u001b[0;34m\u001b[0m\u001b[0;34m\u001b[0m\u001b[0m\n\u001b[0m\u001b[1;32m   1002\u001b[0m                 \u001b[0;32mreturn\u001b[0m \u001b[0mfollowers\u001b[0m\u001b[0;34m\u001b[0m\u001b[0;34m\u001b[0m\u001b[0m\n\u001b[1;32m   1003\u001b[0m             \u001b[0mnext_max_id\u001b[0m \u001b[0;34m=\u001b[0m \u001b[0mtemp\u001b[0m\u001b[0;34m[\u001b[0m\u001b[0;34m\"next_max_id\"\u001b[0m\u001b[0;34m]\u001b[0m\u001b[0;34m\u001b[0m\u001b[0;34m\u001b[0m\u001b[0m\n",
      "\u001b[0;31mKeyError\u001b[0m: 'big_list'"
     ]
    }
   ],
   "source": [
    "autosub_followers = bot.auto_sub(followers, cnt=5, delay=15)"
   ]
  },
  {
   "cell_type": "code",
   "execution_count": 30,
   "metadata": {},
   "outputs": [
    {
     "name": "stderr",
     "output_type": "stream",
     "text": [
      "100%|██████████| 5/5 [01:17<00:00, 15.57s/it]\n"
     ]
    },
    {
     "data": {
      "text/plain": [
       "'Done!'"
      ]
     },
     "execution_count": 30,
     "metadata": {},
     "output_type": "execute_result"
    }
   ],
   "source": [
    "PATH = 'followed_2020_02_06.pickle'\n",
    "bot.auto_unsab('bboyzander', PATH)"
   ]
  },
  {
   "cell_type": "code",
   "execution_count": 18,
   "metadata": {},
   "outputs": [],
   "source": [
    "followers = bot.get_followers(username)\n",
    "followings = bot.get_followings(username)\n",
    "\n",
    "followers_id = [i['pk'] for i in followers]\n",
    "followings_id = [i['pk'] for i in followings]\n",
    "\n",
    "not_following_me = list(set(followings_id) - set(followers_id))"
   ]
  },
  {
   "cell_type": "markdown",
   "metadata": {},
   "source": [
    "TODO\n",
    " - [ ] Documentation for all functions\n",
    " - [ ] Think about extra functions\n",
    " - [ ] Test current functionality\n",
    " - [ ] Make telegram bot and run it on the server"
   ]
  },
  {
   "cell_type": "code",
   "execution_count": null,
   "metadata": {},
   "outputs": [],
   "source": []
  }
 ],
 "metadata": {
  "kernelspec": {
   "display_name": "Python 3",
   "language": "python",
   "name": "python3"
  },
  "language_info": {
   "codemirror_mode": {
    "name": "ipython",
    "version": 3
   },
   "file_extension": ".py",
   "mimetype": "text/x-python",
   "name": "python",
   "nbconvert_exporter": "python",
   "pygments_lexer": "ipython3",
   "version": "3.7.4"
  }
 },
 "nbformat": 4,
 "nbformat_minor": 4
}

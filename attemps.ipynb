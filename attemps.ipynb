{
 "cells": [
  {
   "cell_type": "code",
   "execution_count": 1,
   "metadata": {},
   "outputs": [],
   "source": [
    "import pandas as pd\n",
    "import numpy as np\n",
    "\n",
    "from time import sleep\n",
    "from tqdm import tqdm\n",
    "import datetime\n",
    "import pickle\n",
    "\n",
    "from InstagramAPI import InstagramAPI"
   ]
  },
  {
   "cell_type": "markdown",
   "metadata": {},
   "source": [
    "https://dev.to/coderasha/automating-instagram-api-with-python-gain-followers-2ap7"
   ]
  },
  {
   "cell_type": "code",
   "execution_count": 2,
   "metadata": {},
   "outputs": [],
   "source": [
    "user = pd.read_csv('log_in.csv', sep=';')\n",
    "\n",
    "username = user.username.values[0]\n",
    "password = user.password.values[0]"
   ]
  },
  {
   "cell_type": "code",
   "execution_count": 20,
   "metadata": {},
   "outputs": [
    {
     "name": "stdout",
     "output_type": "stream",
     "text": [
      "Request return 429 error!\n",
      "{'message': 'Please wait a few minutes before you try again.', 'status': 'fail'}\n",
      "Request return 405 error!\n",
      "{'message': '', 'status': 'fail'}\n",
      "Login success!\n",
      "\n",
      "pk\n",
      "username\n",
      "full_name\n",
      "is_private\n",
      "profile_pic_url\n",
      "profile_pic_id\n",
      "is_verified\n",
      "has_anonymous_profile_picture\n",
      "media_count\n",
      "geo_media_count\n",
      "follower_count\n",
      "following_count\n",
      "following_tag_count\n",
      "biography\n",
      "external_url\n",
      "external_lynx_url\n",
      "can_boost_post\n",
      "can_see_organic_insights\n",
      "show_insights_terms\n",
      "can_convert_to_business\n",
      "can_create_sponsor_tags\n",
      "can_be_tagged_as_sponsor\n",
      "total_igtv_videos\n",
      "reel_auto_archive\n",
      "usertags_count\n",
      "usertag_review_enabled\n",
      "has_chaining\n",
      "hd_profile_pic_versions\n",
      "hd_profile_pic_url_info\n",
      "has_placed_orders\n",
      "show_conversion_edit_entry\n",
      "allowed_commenter_type\n",
      "is_video_creator\n",
      "has_profile_video_feed\n",
      "eligible_shopping_signup_entrypoints\n",
      "direct_messaging\n",
      "fb_page_call_to_action_id\n",
      "address_street\n",
      "business_contact_method\n",
      "category\n",
      "city_id\n",
      "city_name\n",
      "contact_phone_number\n",
      "is_call_to_action_enabled\n",
      "latitude\n",
      "longitude\n",
      "public_email\n",
      "public_phone_country_code\n",
      "public_phone_number\n",
      "zip\n",
      "can_claim_page\n",
      "can_crosspost_without_fb_token\n",
      "num_of_admined_pages\n",
      "page_id\n",
      "page_name\n",
      "is_attribute_sync_enabled\n",
      "has_business_presence_node\n",
      "ads_page_id\n",
      "ads_page_name\n",
      "instagram_location_id\n",
      "is_business\n",
      "account_type\n",
      "professional_conversion_suggested_account_type\n",
      "can_hide_category\n",
      "can_hide_public_contacts\n",
      "should_show_category\n",
      "should_show_public_contacts\n"
     ]
    }
   ],
   "source": [
    "api = InstagramAPI(username, password)\n",
    "api.USER_AGENT = 'Instagram 10.34.0 Android (18/4.3; 320dpi; 720x1280; Xiaomi; HM lSW; armani; qcom; en_US)'\n",
    "api.login()\n",
    "\n",
    "api.searchUsername(username)\n",
    "result = api.LastJson\n",
    "for i in  result['user'].keys():\n",
    "    print(i)"
   ]
  },
  {
   "cell_type": "code",
   "execution_count": 16,
   "metadata": {},
   "outputs": [],
   "source": [
    "class InstaBot:\n",
    "\n",
    "    def __init__(self, username, password):\n",
    "        self.api = InstagramAPI(username, password) \n",
    "        \n",
    "        api = self.api\n",
    "        api.USER_AGENT = 'Instagram 10.34.0 Android (18/4.3; 320dpi; 720x1280; Xiaomi; HM lSW; armani; qcom; en_US)'\n",
    "        api.login()\n",
    "        \n",
    "    def get_followers(self, username):\n",
    "        \"\"\"\n",
    "        return all user's followers\n",
    "        \"\"\"\n",
    "        api = self.api\n",
    "        \n",
    "        api.login()\n",
    "        api.searchUsername(username)\n",
    "        r = api.LastJson\n",
    "        return api.getTotalFollowers(r['user']['pk'])\n",
    "\n",
    "    def get_followings(self, username):\n",
    "        \"\"\"\n",
    "        return all user's followings\n",
    "        \"\"\"\n",
    "        api = self.api\n",
    "        \n",
    "        api.login()\n",
    "        api.searchUsername(username)\n",
    "        r = api.LastJson\n",
    "        return api.getTotalFollowings(r['user']['pk'])"
   ]
  },
  {
   "cell_type": "code",
   "execution_count": 17,
   "metadata": {},
   "outputs": [
    {
     "name": "stdout",
     "output_type": "stream",
     "text": [
      "Request return 429 error!\n",
      "{'message': 'Please wait a few minutes before you try again.', 'status': 'fail'}\n",
      "Request return 405 error!\n",
      "{'message': '', 'status': 'fail'}\n",
      "Login success!\n",
      "\n"
     ]
    }
   ],
   "source": [
    "bot = InstaBot(username, password)"
   ]
  },
  {
   "cell_type": "code",
   "execution_count": 18,
   "metadata": {},
   "outputs": [],
   "source": [
    "followers = bot.get_followers(username)\n",
    "followings = bot.get_followings(username)\n",
    "\n",
    "followers_id = [i['pk'] for i in followers]\n",
    "followings_id = [i['pk'] for i in followings]\n",
    "\n",
    "not_following_me = list(set(followings_id) - set(followers_id))"
   ]
  },
  {
   "cell_type": "code",
   "execution_count": 19,
   "metadata": {},
   "outputs": [
    {
     "data": {
      "text/plain": [
       "92"
      ]
     },
     "execution_count": 19,
     "metadata": {},
     "output_type": "execute_result"
    }
   ],
   "source": [
    "len(not_following_me)"
   ]
  },
  {
   "cell_type": "markdown",
   "metadata": {},
   "source": [
    "random follower from my list -> get it's n random followers -> check them, cancel if they already follow me -> follow them, save info about them\n",
    "\n",
    "todo\n",
    " - [] autosub\n",
    " - [] autoliker\n",
    " - [] autounsub"
   ]
  },
  {
   "cell_type": "code",
   "execution_count": 63,
   "metadata": {},
   "outputs": [],
   "source": [
    "def autosub(your_followers, cnt=10, delay=15):\n",
    "    \"\"\"\n",
    "    Autosuber\n",
    "    \"\"\"\n",
    "    assert len(your_followers) >= 1, 'users not found'\n",
    "    \n",
    "    user = np.random.choice(your_followers, 1)[0]\n",
    "    his_followers = api.getTotalFollowers(user['pk'])\n",
    "    \n",
    "    to_follow = [i['pk'] for i in np.random.choice(his_followers, cnt)]\n",
    "    your_followers_id = [i['pk'] for i in your_followers]\n",
    "    to_follow = list(set(to_follow) - set(your_followers_id))\n",
    "    \n",
    "    for user in tqdm(to_follow):\n",
    "        api.follow(user)\n",
    "        sleep(20)\n",
    "        \n",
    "    curr_date =  str(datetime.datetime.now().date()).replace('-', '_')   \n",
    "    with open('followed_' + curr_date + '.pickle' , 'wb') as f:\n",
    "        pickle.dump(to_follow, f)\n",
    "        \n",
    "    return to_follow"
   ]
  },
  {
   "cell_type": "code",
   "execution_count": 50,
   "metadata": {},
   "outputs": [],
   "source": [
    "a = autosub(followers)"
   ]
  },
  {
   "cell_type": "code",
   "execution_count": 53,
   "metadata": {},
   "outputs": [],
   "source": [
    "import datetime"
   ]
  },
  {
   "cell_type": "code",
   "execution_count": 60,
   "metadata": {},
   "outputs": [
    {
     "data": {
      "text/plain": [
       "'2020_02_02'"
      ]
     },
     "execution_count": 60,
     "metadata": {},
     "output_type": "execute_result"
    }
   ],
   "source": []
  },
  {
   "cell_type": "code",
   "execution_count": 39,
   "metadata": {},
   "outputs": [
    {
     "name": "stderr",
     "output_type": "stream",
     "text": [
      "  0%|          | 0/3 [00:00<?, ?it/s]"
     ]
    },
    {
     "name": "stdout",
     "output_type": "stream",
     "text": [
      "ruslan_basariev\n"
     ]
    },
    {
     "name": "stderr",
     "output_type": "stream",
     "text": [
      " 33%|███▎      | 1/3 [00:20<00:41, 20.84s/it]"
     ]
    },
    {
     "name": "stdout",
     "output_type": "stream",
     "text": [
      "edisonlby_90_nolvbl\n"
     ]
    },
    {
     "name": "stderr",
     "output_type": "stream",
     "text": [
      " 67%|██████▋   | 2/3 [00:41<00:20, 20.81s/it]"
     ]
    },
    {
     "name": "stdout",
     "output_type": "stream",
     "text": [
      "artemvd\n"
     ]
    },
    {
     "name": "stderr",
     "output_type": "stream",
     "text": [
      "100%|██████████| 3/3 [01:02<00:00, 20.93s/it]\n"
     ]
    }
   ],
   "source": [
    "n = 3\n",
    "\n",
    "api.searchUsername('')\n",
    "user_ = api.LastJson\n",
    "\n",
    "result = api.getTotalFollowers(user_['user']['pk'])\n",
    "to_sub = np.random.choice(result, n)\n",
    "\n",
    "for user in tqdm(to_sub):\n",
    "    api.follow(user['pk'])\n",
    "    print(user['username'])\n",
    "    sleep(20)"
   ]
  },
  {
   "cell_type": "code",
   "execution_count": 35,
   "metadata": {},
   "outputs": [
    {
     "data": {
      "text/plain": [
       "array([7, 4, 2])"
      ]
     },
     "execution_count": 35,
     "metadata": {},
     "output_type": "execute_result"
    }
   ],
   "source": [
    "np.random.choice([1, 2, 3, 4, 5, 6, 7], 3)"
   ]
  }
 ],
 "metadata": {
  "kernelspec": {
   "display_name": "Python 3",
   "language": "python",
   "name": "python3"
  },
  "language_info": {
   "codemirror_mode": {
    "name": "ipython",
    "version": 3
   },
   "file_extension": ".py",
   "mimetype": "text/x-python",
   "name": "python",
   "nbconvert_exporter": "python",
   "pygments_lexer": "ipython3",
   "version": "3.7.4"
  }
 },
 "nbformat": 4,
 "nbformat_minor": 4
}

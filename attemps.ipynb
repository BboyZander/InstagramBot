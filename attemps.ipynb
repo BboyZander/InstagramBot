{
 "cells": [
  {
   "cell_type": "code",
   "execution_count": 1,
   "metadata": {},
   "outputs": [],
   "source": [
    "import pandas as pd\n",
    "import numpy as np\n",
    "\n",
    "from time import sleep\n",
    "from tqdm import tqdm\n",
    "\n",
    "from InstagramAPI import InstagramAPI"
   ]
  },
  {
   "cell_type": "code",
   "execution_count": 2,
   "metadata": {},
   "outputs": [],
   "source": [
    "user = pd.read_csv('log_in.csv', sep=';')\n",
    "username = user.username.values[0]\n",
    "password = user.password.values[0]\n",
    "\n",
    "api = InstagramAPI(username, password)\n",
    "api.USER_AGENT = 'Instagram 10.34.0 Android (18/4.3; 320dpi; 720x1280; Xiaomi; HM lSW; armani; qcom; en_US)'"
   ]
  },
  {
   "cell_type": "code",
   "execution_count": 3,
   "metadata": {},
   "outputs": [
    {
     "name": "stdout",
     "output_type": "stream",
     "text": [
      "Request return 429 error!\n",
      "{'message': 'Please wait a few minutes before you try again.', 'status': 'fail'}\n",
      "Request return 405 error!\n",
      "{'message': '', 'status': 'fail'}\n",
      "Login success!\n",
      "\n",
      "pk\n",
      "username\n",
      "full_name\n",
      "is_private\n",
      "profile_pic_url\n",
      "profile_pic_id\n",
      "is_verified\n",
      "has_anonymous_profile_picture\n",
      "media_count\n",
      "geo_media_count\n",
      "follower_count\n",
      "following_count\n",
      "following_tag_count\n",
      "biography\n",
      "external_url\n",
      "external_lynx_url\n",
      "can_boost_post\n",
      "can_see_organic_insights\n",
      "show_insights_terms\n",
      "can_convert_to_business\n",
      "can_create_sponsor_tags\n",
      "can_be_tagged_as_sponsor\n",
      "total_igtv_videos\n",
      "reel_auto_archive\n",
      "usertags_count\n",
      "usertag_review_enabled\n",
      "has_chaining\n",
      "hd_profile_pic_versions\n",
      "hd_profile_pic_url_info\n",
      "has_placed_orders\n",
      "show_conversion_edit_entry\n",
      "allowed_commenter_type\n",
      "is_video_creator\n",
      "has_profile_video_feed\n",
      "eligible_shopping_signup_entrypoints\n",
      "direct_messaging\n",
      "fb_page_call_to_action_id\n",
      "address_street\n",
      "business_contact_method\n",
      "category\n",
      "city_id\n",
      "city_name\n",
      "contact_phone_number\n",
      "is_call_to_action_enabled\n",
      "latitude\n",
      "longitude\n",
      "public_email\n",
      "public_phone_country_code\n",
      "public_phone_number\n",
      "zip\n",
      "can_claim_page\n",
      "can_crosspost_without_fb_token\n",
      "num_of_admined_pages\n",
      "page_id\n",
      "page_name\n",
      "is_attribute_sync_enabled\n",
      "has_business_presence_node\n",
      "ads_page_id\n",
      "ads_page_name\n",
      "instagram_location_id\n",
      "is_business\n",
      "account_type\n",
      "professional_conversion_suggested_account_type\n",
      "can_hide_category\n",
      "can_hide_public_contacts\n",
      "should_show_category\n",
      "should_show_public_contacts\n"
     ]
    }
   ],
   "source": [
    "api.login()\n",
    "api.searchUsername(username)\n",
    "result = api.LastJson\n",
    "for i in  result['user'].keys():\n",
    "    print(i)"
   ]
  },
  {
   "cell_type": "code",
   "execution_count": 4,
   "metadata": {},
   "outputs": [],
   "source": [
    "def get_followers(api, username):\n",
    "    \"\"\"\n",
    "    return your followers\n",
    "    \"\"\"\n",
    "    api.login()\n",
    "    api.searchUsername(username)\n",
    "    return api.getTotalSelfFollowers()\n",
    "\n",
    "def get_followings(api, username):\n",
    "    \"\"\"\n",
    "    return your followings\n",
    "    \"\"\"\n",
    "    api.login()\n",
    "    api.searchUsername(username)\n",
    "    return api.getTotalSelfFollowings()"
   ]
  },
  {
   "cell_type": "code",
   "execution_count": 10,
   "metadata": {},
   "outputs": [],
   "source": [
    "followers = get_followers(api, username)\n",
    "followings = get_followings(api, username)\n",
    "\n",
    "followers_id = [i['pk'] for i in followers]\n",
    "followings_id = [i['pk'] for i in followings]\n",
    "\n",
    "not_following_me = list(set(followings_id) - set(followers_id))"
   ]
  },
  {
   "cell_type": "code",
   "execution_count": 12,
   "metadata": {
    "collapsed": true,
    "jupyter": {
     "outputs_hidden": true
    }
   },
   "outputs": [
    {
     "name": "stdout",
     "output_type": "stream",
     "text": [
      "nastena_slast\n",
      "alexander.gulin\n",
      "abver_live\n",
      "gvadya\n",
      "roki47\n",
      "mashasolnceva\n",
      "leno_okkk\n",
      "irastepkinaa\n",
      "christina2201\n",
      "yes.kris\n",
      "chupismi\n",
      "ill_daws\n",
      "fitness_trainer.sports_wear\n",
      "as.ksu\n",
      "maria11k03\n",
      "trener.kozhedub\n",
      "panfilova_marietta_\n",
      "_qs\n",
      "kochetkov_ivan\n",
      "volnayaptichka\n",
      "shokoladochka_\n",
      "pxldevil\n",
      "princevagin\n",
      "maru_cat\n",
      "plastmass_predatorz\n",
      "taptapraptap\n",
      "k_i_rav\n",
      "bravissimodasha\n",
      "nastjadd\n",
      "coach__vasily_\n",
      "seliverstov_dmitry\n",
      "gnummememe\n",
      "niektraa\n",
      "gnumme\n",
      "jboyara\n",
      "kamilarazykova\n",
      "packovalove\n",
      "mishaprygunov\n",
      "ne.comics\n",
      "bboypocket\n",
      "bboycasper\n",
      "beatmastert\n",
      "28oi\n",
      "fitdasha\n",
      "zanudas\n",
      "dasha.navarra\n",
      "mironovserge\n",
      "teamklokov\n",
      "kris_saharova\n",
      "thebboymachine\n",
      "welovegamestv\n",
      "n_etkind\n",
      "pandaffx\n",
      "vtestosterone\n",
      "rubberlegz\n",
      "lilou_officiel\n",
      "neguinism\n",
      "bboyhongten\n",
      "anyatikhaya\n",
      "nyasharisha\n",
      "cheerito\n",
      "nastyakorotkaya\n",
      "dmitryyashankin\n",
      "lilamok\n",
      "cooperranney_fit\n",
      "bukholts\n",
      "mira_twitch\n",
      "efl_ana\n",
      "amkal_official_\n",
      "marvel.rus\n",
      "klokovd\n",
      "atginsta\n",
      "twitch_videos\n",
      "corgisftw\n",
      "german_popkov\n",
      "aleksey.mokshyn\n",
      "dwarfmamba\n",
      "boredoneguy\n",
      "thefootballtroll\n",
      "maria_iliukhina\n",
      "lestwinsoff\n",
      "sava9\n",
      "chrishemsworth\n",
      "lestwinson\n",
      "instagram\n",
      "loganpaul\n",
      "uzoma_obilor\n",
      "markwahlberg\n",
      "willsmith\n",
      "c.syresmith\n",
      "tristynleeofficial\n",
      "ms_kalianova\n",
      "jenniferaniston\n"
     ]
    }
   ],
   "source": [
    "for user in followings:\n",
    "    if user['pk'] in not_following_me:\n",
    "        print(user['username'])"
   ]
  },
  {
   "cell_type": "markdown",
   "metadata": {},
   "source": [
    "random follower from my list -> get it's n random followers -> check them, cancel if they already follow me -> follow them, save info about them\n",
    "\n",
    "todo\n",
    " - [] autosub\n",
    " - [] autoliker\n",
    " - [] autounsub"
   ]
  },
  {
   "cell_type": "code",
   "execution_count": 37,
   "metadata": {},
   "outputs": [
    {
     "data": {
      "text/plain": [
       "{'pk': 509584792,\n",
       " 'username': 'semindomik',\n",
       " 'full_name': 'Лежаки И Домики От Семы🦊',\n",
       " 'is_private': False,\n",
       " 'profile_pic_url': 'https://scontent-arn2-1.cdninstagram.com/v/t51.2885-19/s150x150/82154432_798087864008818_5698069528907350016_n.jpg?_nc_ht=scontent-arn2-1.cdninstagram.com&_nc_ohc=BdcKKJcUq1UAX-5r5CD&oh=c615f4367fcbde81bebc10a87fa6484e&oe=5EBDA2CA',\n",
       " 'profile_pic_id': '2222131096051745121_509584792',\n",
       " 'is_verified': False,\n",
       " 'has_anonymous_profile_picture': False,\n",
       " 'latest_reel_media': 0}"
      ]
     },
     "execution_count": 37,
     "metadata": {},
     "output_type": "execute_result"
    }
   ],
   "source": [
    "result[0]"
   ]
  },
  {
   "cell_type": "code",
   "execution_count": 39,
   "metadata": {},
   "outputs": [
    {
     "name": "stderr",
     "output_type": "stream",
     "text": [
      "  0%|          | 0/3 [00:00<?, ?it/s]"
     ]
    },
    {
     "name": "stdout",
     "output_type": "stream",
     "text": [
      "ruslan_basariev\n"
     ]
    },
    {
     "name": "stderr",
     "output_type": "stream",
     "text": [
      " 33%|███▎      | 1/3 [00:20<00:41, 20.84s/it]"
     ]
    },
    {
     "name": "stdout",
     "output_type": "stream",
     "text": [
      "edisonlby_90_nolvbl\n"
     ]
    },
    {
     "name": "stderr",
     "output_type": "stream",
     "text": [
      " 67%|██████▋   | 2/3 [00:41<00:20, 20.81s/it]"
     ]
    },
    {
     "name": "stdout",
     "output_type": "stream",
     "text": [
      "artemvd\n"
     ]
    },
    {
     "name": "stderr",
     "output_type": "stream",
     "text": [
      "100%|██████████| 3/3 [01:02<00:00, 20.93s/it]\n"
     ]
    }
   ],
   "source": [
    "n = 3\n",
    "\n",
    "api.searchUsername('')\n",
    "user_ = api.LastJson\n",
    "\n",
    "result = api.getTotalFollowers(user_['user']['pk'])\n",
    "to_sub = np.random.choice(result, n)\n",
    "\n",
    "for user in tqdm(to_sub):\n",
    "    api.follow(user['pk'])\n",
    "    print(user['username'])\n",
    "    sleep(20)"
   ]
  },
  {
   "cell_type": "code",
   "execution_count": 35,
   "metadata": {},
   "outputs": [
    {
     "data": {
      "text/plain": [
       "array([7, 4, 2])"
      ]
     },
     "execution_count": 35,
     "metadata": {},
     "output_type": "execute_result"
    }
   ],
   "source": [
    "np.random.choice([1, 2, 3, 4, 5, 6, 7], 3)"
   ]
  }
 ],
 "metadata": {
  "kernelspec": {
   "display_name": "Python 3",
   "language": "python",
   "name": "python3"
  },
  "language_info": {
   "codemirror_mode": {
    "name": "ipython",
    "version": 3
   },
   "file_extension": ".py",
   "mimetype": "text/x-python",
   "name": "python",
   "nbconvert_exporter": "python",
   "pygments_lexer": "ipython3",
   "version": "3.7.4"
  }
 },
 "nbformat": 4,
 "nbformat_minor": 4
}

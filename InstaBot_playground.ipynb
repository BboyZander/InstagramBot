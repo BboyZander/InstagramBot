{
 "cells": [
  {
   "cell_type": "code",
   "execution_count": 1,
   "metadata": {},
   "outputs": [],
   "source": [
    "import pandas as pd\n",
    "import numpy as np\n",
    "\n",
    "from time import sleep\n",
    "from tqdm import tqdm\n",
    "import datetime\n",
    "import pickle\n",
    "\n",
    "from InstagramAPI import InstagramAPI"
   ]
  },
  {
   "cell_type": "code",
   "execution_count": 2,
   "metadata": {},
   "outputs": [],
   "source": [
    "from importlib import reload\n",
    "import sys\n",
    "\n",
    "import InstaBot as ib"
   ]
  },
  {
   "cell_type": "code",
   "execution_count": 3,
   "metadata": {},
   "outputs": [],
   "source": [
    "reload(sys.modules['InstaBot'])\n",
    "import InstaBot as ib"
   ]
  },
  {
   "cell_type": "markdown",
   "metadata": {},
   "source": [
    "https://dev.to/coderasha/automating-instagram-api-with-python-gain-followers-2ap7"
   ]
  },
  {
   "cell_type": "code",
   "execution_count": 4,
   "metadata": {},
   "outputs": [],
   "source": [
    "user = pd.read_csv('login.csv', sep=';')\n",
    "\n",
    "username = user.username.values[0]\n",
    "password = user.password.values[0]"
   ]
  },
  {
   "cell_type": "code",
   "execution_count": 13,
   "metadata": {},
   "outputs": [
    {
     "name": "stdout",
     "output_type": "stream",
     "text": [
      "Request return 429 error!\n",
      "{'message': 'Please wait a few minutes before you try again.', 'status': 'fail'}\n",
      "Request return 405 error!\n",
      "{'message': '', 'status': 'fail'}\n",
      "Login success!\n",
      "\n",
      "pk\n",
      "username\n",
      "full_name\n",
      "is_private\n",
      "profile_pic_url\n",
      "profile_pic_id\n",
      "is_verified\n",
      "has_anonymous_profile_picture\n",
      "media_count\n",
      "geo_media_count\n",
      "follower_count\n",
      "following_count\n",
      "following_tag_count\n",
      "biography\n",
      "external_url\n",
      "external_lynx_url\n",
      "can_boost_post\n",
      "can_see_organic_insights\n",
      "show_insights_terms\n",
      "can_convert_to_business\n",
      "can_create_sponsor_tags\n",
      "can_be_tagged_as_sponsor\n",
      "total_igtv_videos\n",
      "reel_auto_archive\n",
      "usertags_count\n",
      "usertag_review_enabled\n",
      "has_chaining\n",
      "hd_profile_pic_versions\n",
      "hd_profile_pic_url_info\n",
      "has_placed_orders\n",
      "show_conversion_edit_entry\n",
      "allowed_commenter_type\n",
      "is_video_creator\n",
      "has_profile_video_feed\n",
      "eligible_shopping_signup_entrypoints\n",
      "direct_messaging\n",
      "fb_page_call_to_action_id\n",
      "address_street\n",
      "business_contact_method\n",
      "category\n",
      "city_id\n",
      "city_name\n",
      "contact_phone_number\n",
      "is_call_to_action_enabled\n",
      "latitude\n",
      "longitude\n",
      "public_email\n",
      "public_phone_country_code\n",
      "public_phone_number\n",
      "zip\n",
      "can_claim_page\n",
      "can_crosspost_without_fb_token\n",
      "num_of_admined_pages\n",
      "page_id\n",
      "page_name\n",
      "is_attribute_sync_enabled\n",
      "has_business_presence_node\n",
      "ads_page_id\n",
      "ads_page_name\n",
      "instagram_location_id\n",
      "is_business\n",
      "account_type\n",
      "professional_conversion_suggested_account_type\n",
      "can_hide_category\n",
      "can_hide_public_contacts\n",
      "should_show_category\n",
      "should_show_public_contacts\n"
     ]
    }
   ],
   "source": [
    "api = InstagramAPI(username, password)\n",
    "api.USER_AGENT = 'Instagram 10.34.0 Android (18/4.3; 320dpi; 720x1280; Xiaomi; HM lSW; armani; qcom; en_US)'\n",
    "api.login()\n",
    "\n",
    "api.searchUsername(username)\n",
    "result = api.LastJson\n",
    "for i in  result['user'].keys():\n",
    "    print(i)"
   ]
  },
  {
   "cell_type": "code",
   "execution_count": null,
   "metadata": {},
   "outputs": [],
   "source": []
  },
  {
   "cell_type": "code",
   "execution_count": 5,
   "metadata": {},
   "outputs": [
    {
     "name": "stdout",
     "output_type": "stream",
     "text": [
      "Request return 429 error!\n",
      "{'message': 'Please wait a few minutes before you try again.', 'status': 'fail'}\n",
      "Request return 405 error!\n",
      "{'message': '', 'status': 'fail'}\n",
      "Login success!\n",
      "\n"
     ]
    }
   ],
   "source": [
    "bot = ib.InstaBot(username, password)"
   ]
  },
  {
   "cell_type": "code",
   "execution_count": 6,
   "metadata": {},
   "outputs": [
    {
     "name": "stderr",
     "output_type": "stream",
     "text": [
      "100%|██████████| 30/30 [00:19<00:00,  1.13it/s]\n",
      " 96%|█████████▋| 26/27 [20:54<00:47, 47.35s/it]"
     ]
    },
    {
     "name": "stdout",
     "output_type": "stream",
     "text": [
      "Request return 400 error!\n",
      "{'message': 'feedback_required', 'spam': True, 'feedback_title': 'Action Blocked', 'feedback_message': 'This action was blocked. Please try again later. We restrict certain content and actions to protect our community. Tell us if you think we made a mistake.', 'feedback_url': 'repute/report_problem/instagram_follow_users/', 'feedback_appeal_label': 'Tell us', 'feedback_ignore_label': 'OK', 'feedback_action': 'report_problem', 'status': 'fail'}\n"
     ]
    },
    {
     "name": "stderr",
     "output_type": "stream",
     "text": [
      "100%|██████████| 27/27 [21:51<00:00, 50.17s/it]\n"
     ]
    }
   ],
   "source": [
    "autosub_users = bot.auto_sub('darijasha', cnt=30)"
   ]
  },
  {
   "cell_type": "code",
   "execution_count": 7,
   "metadata": {},
   "outputs": [
    {
     "data": {
      "text/plain": [
       "27"
      ]
     },
     "execution_count": 7,
     "metadata": {},
     "output_type": "execute_result"
    }
   ],
   "source": [
    "len(autosub_users)"
   ]
  },
  {
   "cell_type": "code",
   "execution_count": 30,
   "metadata": {},
   "outputs": [
    {
     "name": "stderr",
     "output_type": "stream",
     "text": [
      "100%|██████████| 5/5 [01:17<00:00, 15.57s/it]\n"
     ]
    },
    {
     "data": {
      "text/plain": [
       "'Done!'"
      ]
     },
     "execution_count": 30,
     "metadata": {},
     "output_type": "execute_result"
    }
   ],
   "source": [
    "PATH = 'followed_2020_02_06.pickle'\n",
    "bot.auto_unsab('bboyzander', PATH)"
   ]
  },
  {
   "cell_type": "code",
   "execution_count": 18,
   "metadata": {},
   "outputs": [],
   "source": [
    "followers = bot.get_followers(username)\n",
    "followings = bot.get_followings(username)\n",
    "\n",
    "followers_id = [i['pk'] for i in followers]\n",
    "followings_id = [i['pk'] for i in followings]\n",
    "\n",
    "not_following_me = list(set(followings_id) - set(followers_id))"
   ]
  },
  {
   "cell_type": "code",
   "execution_count": 16,
   "metadata": {},
   "outputs": [
    {
     "name": "stderr",
     "output_type": "stream",
     "text": [
      "\n",
      "  0%|          | 0/1 [00:00<?, ?it/s]\u001b[A\n",
      "100%|██████████| 1/1 [01:21<00:00, 81.65s/it]\n"
     ]
    },
    {
     "data": {
      "text/plain": [
       "'all likes are given out'"
      ]
     },
     "execution_count": 16,
     "metadata": {},
     "output_type": "execute_result"
    }
   ],
   "source": [
    "bot.give_like(28972792081, cnt_likes=8)"
   ]
  },
  {
   "cell_type": "code",
   "execution_count": null,
   "metadata": {},
   "outputs": [],
   "source": []
  }
 ],
 "metadata": {
  "kernelspec": {
   "display_name": "Python 3",
   "language": "python",
   "name": "python3"
  },
  "language_info": {
   "codemirror_mode": {
    "name": "ipython",
    "version": 3
   },
   "file_extension": ".py",
   "mimetype": "text/x-python",
   "name": "python",
   "nbconvert_exporter": "python",
   "pygments_lexer": "ipython3",
   "version": "3.7.4"
  }
 },
 "nbformat": 4,
 "nbformat_minor": 4
}
